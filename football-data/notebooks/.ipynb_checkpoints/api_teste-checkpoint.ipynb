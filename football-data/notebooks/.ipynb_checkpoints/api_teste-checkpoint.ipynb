{
 "cells": [
  {
   "cell_type": "markdown",
   "id": "14213b0a-85f5-4cb0-8916-2f3a6477826f",
   "metadata": {},
   "source": [
    "## Teste de biblioteca request com a descrição de cada método"
   ]
  },
  {
   "cell_type": "code",
   "execution_count": 22,
   "id": "d9f37c1d-a694-452b-acfd-e44132ab21e1",
   "metadata": {},
   "outputs": [
    {
     "ename": "ModuleNotFoundError",
     "evalue": "No module named 'dotenv'",
     "output_type": "error",
     "traceback": [
      "\u001b[31m---------------------------------------------------------------------------\u001b[39m",
      "\u001b[31mModuleNotFoundError\u001b[39m                       Traceback (most recent call last)",
      "\u001b[36mCell\u001b[39m\u001b[36m \u001b[39m\u001b[32mIn[22]\u001b[39m\u001b[32m, line 3\u001b[39m\n\u001b[32m      1\u001b[39m \u001b[38;5;28;01mimport\u001b[39;00m\u001b[38;5;250m \u001b[39m\u001b[34;01mrequests\u001b[39;00m\n\u001b[32m      2\u001b[39m \u001b[38;5;28;01mimport\u001b[39;00m\u001b[38;5;250m \u001b[39m\u001b[34;01mos\u001b[39;00m\n\u001b[32m----> \u001b[39m\u001b[32m3\u001b[39m \u001b[38;5;28;01mfrom\u001b[39;00m\u001b[38;5;250m \u001b[39m\u001b[34;01mdotenv\u001b[39;00m\u001b[38;5;250m \u001b[39m\u001b[38;5;28;01mimport\u001b[39;00m load_dotenv\n\u001b[32m      5\u001b[39m \u001b[38;5;66;03m# Carrega o .env\u001b[39;00m\n\u001b[32m      6\u001b[39m load_dotenv()\n",
      "\u001b[31mModuleNotFoundError\u001b[39m: No module named 'dotenv'"
     ]
    }
   ],
   "source": [
    "import requests\n",
    "import os\n",
    "from dotenv import load_dotenv\n",
    "\n",
    "# Carrega o .env\n",
    "load_dotenv()\n",
    "\n",
    "# Recupera a chave do .env\n",
    "api_key = os.getenv('football_api_token')\n",
    "\n",
    "# Define os headers com a variável\n",
    "headers = {\n",
    "    'X-Auth-Token': api_key\n",
    "}\n",
    "\n",
    "response = requests.get('https://api.football-data.org/v4/matches',headers = headers) # Método get faz a requisição para a API.\n",
    "\n",
    "if response.status_code == 200: # Condicional para saber se a requisição foi feita com sucesso ou não. Sucesso = código 200, sem sucesso: código 404\n",
    "    print(\"Requisição feita com sucesso! ✅\", response)\n",
    "else:\n",
    "    print(\"Requisição sem sucesso! ❌\", response)\n",
    "\n",
    "print(response.json())"
   ]
  },
  {
   "cell_type": "code",
   "execution_count": 23,
   "id": "8a712dbe-2544-4c38-908c-413f01cea7ac",
   "metadata": {},
   "outputs": [
    {
     "name": "stdout",
     "output_type": "stream",
     "text": [
      "Collecting python-dotenv\n",
      "  Using cached python_dotenv-1.1.1-py3-none-any.whl.metadata (24 kB)\n",
      "Using cached python_dotenv-1.1.1-py3-none-any.whl (20 kB)\n",
      "Installing collected packages: python-dotenv\n",
      "Successfully installed python-dotenv-1.1.1\n",
      "Note: you may need to restart the kernel to use updated packages.\n"
     ]
    }
   ],
   "source": [
    "pip install python-dotenv\n"
   ]
  }
 ],
 "metadata": {
  "kernelspec": {
   "display_name": "Python 3 (ipykernel)",
   "language": "python",
   "name": "python3"
  },
  "language_info": {
   "codemirror_mode": {
    "name": "ipython",
    "version": 3
   },
   "file_extension": ".py",
   "mimetype": "text/x-python",
   "name": "python",
   "nbconvert_exporter": "python",
   "pygments_lexer": "ipython3",
   "version": "3.13.5"
  }
 },
 "nbformat": 4,
 "nbformat_minor": 5
}
